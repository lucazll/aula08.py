{
 "cells": [
  {
   "cell_type": "code",
   "execution_count": 1,
   "metadata": {},
   "outputs": [
    {
     "data": {
      "text/plain": [
       "7.0"
      ]
     },
     "execution_count": 1,
     "metadata": {},
     "output_type": "execute_result"
    }
   ],
   "source": [
    "def notas(nota1, nota2, nota3):\n",
    "    media = (nota1 + nota2 + nota3) /3\n",
    "    return media\n",
    "\n",
    "nota1 = int(input('DIGITE A NOTA 1: '))\n",
    "nota2 = int(input('DIGITE A NOTA 2: '))\n",
    "nota3 = int(input('DIGITE A NOTA 3: '))\n",
    "\n",
    "notas(nota1, nota2, nota3)"
   ]
  },
  {
   "cell_type": "code",
   "execution_count": 3,
   "metadata": {},
   "outputs": [
    {
     "name": "stdout",
     "output_type": "stream",
     "text": [
      "O número digitado é Ímpar \n"
     ]
    }
   ],
   "source": [
    "def par_impar(numero):\n",
    "    pares = []\n",
    "    if numero % 2 == 0:\n",
    "        return 'Par'\n",
    "    else:\n",
    "        return 'Ímpar'\n",
    "    \n",
    "numero = int(input('Digite um número: '))\n",
    "pares_ou_impares = par_impar(numero)\n",
    "print(f'O número digitado é {pares_ou_impares} ')"
   ]
  },
  {
   "cell_type": "code",
   "execution_count": 5,
   "metadata": {},
   "outputs": [],
   "source": [
    "def filtrar_pares(numeros):\n",
    "    pares = []\n",
    "    for numero in numeros:\n",
    "        if numero % 2 == 0:\n",
    "            pares.append(numero)\n",
    "    return pares"
   ]
  }
 ],
 "metadata": {
  "kernelspec": {
   "display_name": "Python 3",
   "language": "python",
   "name": "python3"
  },
  "language_info": {
   "codemirror_mode": {
    "name": "ipython",
    "version": 3
   },
   "file_extension": ".py",
   "mimetype": "text/x-python",
   "name": "python",
   "nbconvert_exporter": "python",
   "pygments_lexer": "ipython3",
   "version": "3.12.6"
  }
 },
 "nbformat": 4,
 "nbformat_minor": 2
}
